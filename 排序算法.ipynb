{
 "cells": [
  {
   "cell_type": "markdown",
   "metadata": {},
   "source": [
    "# 记录常见的排序算法\n",
    "\n",
    "### 包括有\n",
    "1. 冒泡排序  \n",
    "2. 快速排序\n",
    "3. 选择排序\n",
    "4. 插入排序\n",
    "\n",
    "———————————————————————————————————————————————"
   ]
  },
  {
   "cell_type": "markdown",
   "metadata": {},
   "source": [
    "## 1 冒泡排序（Bubble Sort）\n",
    "> 它重复地走访过要排序的数列，一次比较两个元素，如果他们的顺序错误就把他们交换过来。走访数列的工作是重复地进行直到没有再需要交换，也就是说该数列已经排序完成。\n",
    "\n",
    "时间复杂度：  \n",
    "最好 O(n)   （在设置了无交换标志位的前提出现）  \n",
    "平均 O(n^2)  \n",
    "最坏 O(n^2)  \n",
    "\n",
    "#### 没有太多好说的，理解一下时间复杂度和设置标志位的情况"
   ]
  },
  {
   "cell_type": "code",
   "execution_count": 17,
   "metadata": {
    "collapsed": true
   },
   "outputs": [],
   "source": [
    "def bubbleSort(A):\n",
    "    # assume input A is list\n",
    "    n = len(A)\n",
    "    for i in range(0, n):\n",
    "        flag = True     # 设置无交换标志位\n",
    "        for j in range(0, n-1-i):\n",
    "            if A[j] > A[j+1]:\n",
    "                A[j], A[j+1] = A[j+1], A[j]\n",
    "                flag = False\n",
    "        if flag is True:\n",
    "            break\n",
    "    return A    "
   ]
  },
  {
   "cell_type": "markdown",
   "metadata": {},
   "source": [
    "### 测试冒泡"
   ]
  },
  {
   "cell_type": "code",
   "execution_count": 23,
   "metadata": {},
   "outputs": [
    {
     "name": "stdout",
     "output_type": "stream",
     "text": [
      "[3, 4, 4, 8, 12, 23, 56]\n"
     ]
    }
   ],
   "source": [
    "x = [4, 23, 12, 56, 8, 3, 4]\n",
    "y = bubbleSort(x)\n",
    "print(y)"
   ]
  },
  {
   "cell_type": "markdown",
   "metadata": {},
   "source": [
    "——————————————————————————————————————————————————————————\n",
    "\n",
    "\n",
    "\n",
    "\n",
    "## 2 快速排序 （Quick Sort）\n",
    "> 步骤为：\n",
    "> 1. 从数列中挑出一个元素，称为“基准”（pivot），  \n",
    "> 2. 重新排序数列，所有比基准值小的元素摆放在基准前面，所有比基准值大的元素摆在基准后面（相同的数可以到任何一边）。在这个分割结束之后，该基准就处于数列的中间位置。这个称为分割（partition）操作。  \n",
    "> 3. 递归地（recursively）把小于基准值元素的子数列和大于基准值元素的子数列排序。  \n",
    "> p.s. 基于分治思想，使用到递归来进行操作\n",
    "\n",
    "时间复杂度：  \n",
    "最好 O(n·logn)      \n",
    "平均 O(n·logn)  \n",
    "最坏 O(n^2)  \n"
   ]
  },
  {
   "cell_type": "code",
   "execution_count": 29,
   "metadata": {},
   "outputs": [],
   "source": [
    "# 2.1 普通版本快排\n",
    "def quick_sort(lst):\n",
    "    if len(lst) <= 1:   # 由于快拍后面的操作较为繁琐，所以需要考虑直接跳出\n",
    "        return lst\n",
    "    less = []\n",
    "    greater = []\n",
    "    pivot = lst[0]      # 随机选择一个数作为基准，注意选择了之后后面不要对它自身进行比较\n",
    "    for index in range(1, len(lst)):\n",
    "        if lst[index] < pivot:\n",
    "            less.append(lst[index])\n",
    "        else:           # 数值等于基准数值的时候放到哪里都可以\n",
    "            greater.append(lst[index])\n",
    "    left = quick_sort(less)\n",
    "    right = quick_sort(greater)\n",
    "    return left + [pivot] + right"
   ]
  },
  {
   "cell_type": "markdown",
   "metadata": {},
   "source": [
    "### 测试普通快排"
   ]
  },
  {
   "cell_type": "code",
   "execution_count": 28,
   "metadata": {},
   "outputs": [
    {
     "name": "stdout",
     "output_type": "stream",
     "text": [
      "[3, 4, 4, 8, 12, 23, 56]\n"
     ]
    }
   ],
   "source": [
    "x = [4, 23, 12, 56, 8, 3, 4]\n",
    "y = quick_sort(x)\n",
    "print(y)"
   ]
  },
  {
   "cell_type": "code",
   "execution_count": 62,
   "metadata": {
    "collapsed": true
   },
   "outputs": [],
   "source": [
    "# 2.2 原地排序版本快排\n",
    "# 原地排序版本使用索引来作为交换\n",
    "def quick_sort_v2(lst):\n",
    "    if len(lst) <= 1:\n",
    "        return lst\n",
    "    def partition(lst, start, end):\n",
    "        i = start                # 最终的i与pivot的数值进行交换，找到这个合适的位置i\n",
    "        pivotIndex = end  \n",
    "        pivot = lst[end]\n",
    "        for j in range(start, end):\n",
    "            if lst[j] < pivot:   # 比pivot小的对i进行交换，并将i+1，未来再交换pivot\n",
    "                lst[j], lst[i] = lst[i], lst[j]\n",
    "                i += 1\n",
    "        lst[i], lst[pivotIndex] = lst[pivotIndex], lst[i]\n",
    "        return i\n",
    "    def sort(lst, start, end):\n",
    "        if start >= end:\n",
    "            return\n",
    "        p = partition(lst, start, end)\n",
    "        sort(lst, start, p-1)\n",
    "        sort(lst, p+1, end)\n",
    "    sort(lst, 0, len(lst)-1)\n",
    "    return lst"
   ]
  },
  {
   "cell_type": "markdown",
   "metadata": {},
   "source": [
    "### 测试原地快排"
   ]
  },
  {
   "cell_type": "code",
   "execution_count": 63,
   "metadata": {},
   "outputs": [
    {
     "name": "stdout",
     "output_type": "stream",
     "text": [
      "[3, 4, 4, 8, 12, 23, 56]\n"
     ]
    }
   ],
   "source": [
    "x = [4, 23, 12, 56, 8, 3, 4]\n",
    "y = quick_sort_v2(x)\n",
    "print(y)"
   ]
  },
  {
   "cell_type": "markdown",
   "metadata": {},
   "source": [
    "——————————————————————————————————————————————————————————\n",
    "\n",
    "\n",
    "\n",
    "\n",
    "## 3 选择排序 （Selection Sort）\n",
    "  \n",
    "> 每次依次选择一个 最大/最小 的数，放在序列的 开头/结尾。注意这个的适用场景，每次挑选最大/最小，对于对序列所有数值都排序的可以使用这种方式。思路简单\n",
    "\n",
    "时间复杂度：  \n",
    "最好 O(n^2)   \n",
    "平均 O(n^2)  \n",
    "最坏 O(n^2)  \n"
   ]
  },
  {
   "cell_type": "code",
   "execution_count": 65,
   "metadata": {
    "collapsed": true
   },
   "outputs": [],
   "source": [
    "def selectionSort(A):\n",
    "        n = len(A)\n",
    "        for i in range(n):\n",
    "            min_index = i\n",
    "            for j in range(i, n):\n",
    "                if A[j] < A[min_index]:\n",
    "                    min_index = j\n",
    "            A[i], A[min_index] = A[min_index], A[i]\n",
    "        return A"
   ]
  },
  {
   "cell_type": "markdown",
   "metadata": {},
   "source": [
    "### 测试选择排序"
   ]
  },
  {
   "cell_type": "code",
   "execution_count": 66,
   "metadata": {},
   "outputs": [
    {
     "name": "stdout",
     "output_type": "stream",
     "text": [
      "[3, 4, 4, 8, 12, 23, 56]\n"
     ]
    }
   ],
   "source": [
    "x = [4, 23, 12, 56, 8, 3, 4]\n",
    "y = selectionSort(x)\n",
    "print(y)"
   ]
  },
  {
   "cell_type": "markdown",
   "metadata": {},
   "source": [
    "——————————————————————————————————————————————————————————\n",
    "\n",
    "\n",
    "\n",
    "\n",
    "## 4 插入排序 （Insertion Sort）\n",
    "  \n",
    "> 它的工作原理是通过构建有序序列，对于未排序数据，在已排序序列中从后向前扫描，找到相应位置并插入。使用这种方式往往是in-place的，所以其的空间复杂度往往为O(1)\n",
    "\n",
    "时间复杂度：  \n",
    "最好 O(n)   \n",
    "平均 O(n^2)  \n",
    "最坏 O(n^2)  \n"
   ]
  },
  {
   "cell_type": "code",
   "execution_count": null,
   "metadata": {
    "collapsed": true
   },
   "outputs": [],
   "source": []
  }
 ],
 "metadata": {
  "kernelspec": {
   "display_name": "Python 3",
   "language": "python",
   "name": "python3"
  },
  "language_info": {
   "codemirror_mode": {
    "name": "ipython",
    "version": 3
   },
   "file_extension": ".py",
   "mimetype": "text/x-python",
   "name": "python",
   "nbconvert_exporter": "python",
   "pygments_lexer": "ipython3",
   "version": "3.6.1"
  }
 },
 "nbformat": 4,
 "nbformat_minor": 2
}
