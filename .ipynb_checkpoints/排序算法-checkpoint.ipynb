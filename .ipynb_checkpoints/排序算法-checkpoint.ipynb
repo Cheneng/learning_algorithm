{
 "cells": [
  {
   "cell_type": "markdown",
   "metadata": {},
   "source": [
    "# 记录常见的排序算法\n",
    "\n",
    "### 包括有\n",
    "1. 冒泡排序  \n",
    "2. 快速排序\n",
    "\n"
   ]
  },
  {
   "cell_type": "markdown",
   "metadata": {},
   "source": [
    "### 1 冒泡排序\n",
    "> 它重复地走访过要排序的数列，一次比较两个元素，如果他们的顺序错误就把他们交换过来。走访数列的工作是重复地进行直到没有再需要交换，也就是说该数列已经排序完成。\n",
    "\n",
    "时间复杂度：  \n",
    "最好 O(n)   （在设置了无交换标志位的前提出现）  \n",
    "最坏 O(n^2)  \n",
    "平均 O(n^2)  "
   ]
  },
  {
   "cell_type": "code",
   "execution_count": null,
   "metadata": {
    "collapsed": true
   },
   "outputs": [],
   "source": [
    "class BubbleSort:\n",
    "    def bubbleSort(self, A):\n",
    "        # assume input A is list\n",
    "        for i in range(0, len(A))"
   ]
  }
 ],
 "metadata": {
  "kernelspec": {
   "display_name": "Python 3",
   "language": "python",
   "name": "python3"
  },
  "language_info": {
   "codemirror_mode": {
    "name": "ipython",
    "version": 3
   },
   "file_extension": ".py",
   "mimetype": "text/x-python",
   "name": "python",
   "nbconvert_exporter": "python",
   "pygments_lexer": "ipython3",
   "version": "3.6.1"
  }
 },
 "nbformat": 4,
 "nbformat_minor": 2
}
